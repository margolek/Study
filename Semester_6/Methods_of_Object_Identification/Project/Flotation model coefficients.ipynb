{
 "cells": [
  {
   "cell_type": "markdown",
   "metadata": {},
   "source": [
    "# Postać modelu opisująca zjawisko transportu ciepła\n",
    "$$ \\ T_m (z,t) = T_p +exp(\\frac{V\\cdot z}{2\\cdot D})\\cdot\\int_0^t K_v(t-\\tau)\\cdot f(\\tau) d\\tau $$\n",
    "$$\\ K_v(t)=\\frac{z}{2\\cdot (\\pi \\cdot t^3 \\cdot D)^{0.5}} \\cdot exp (- \\frac{z^2}{4\\cdot D\\cdot t}-\\frac {V^2}{4 \\cdot D} \\cdot t) $$\n",
    "$$\\ t \\in (0,t_r) -\\text{czas} $$\n",
    "$$\\ t_r - \\text{czas obserwacji procesu} $$\n",
    "$$\\ T_p - \\text{temperatura poczatkowa} $$\n",
    "$$\\ f(t) = k\\cdot \\delta (t) - \\text{wymuszenie w postaci krótkiego impulsu o amplitudzie k}$$\n",
    "$$\\ V - \\text{prędkość przepływu flotowanej substancji} $$\n",
    "$$\\ D - \\text{współczynnik dyfuzji ciepła} $$"
   ]
  },
  {
   "cell_type": "markdown",
   "metadata": {},
   "source": [
    "### Importowanie potrzebnych bibliotek"
   ]
  },
  {
   "cell_type": "code",
   "execution_count": 1,
   "metadata": {},
   "outputs": [],
   "source": [
    "import pandas as pd\n",
    "import numpy as np\n",
    "import matplotlib.pyplot as plt"
   ]
  },
  {
   "cell_type": "code",
   "execution_count": 2,
   "metadata": {},
   "outputs": [
    {
     "data": {
      "text/html": [
       "<div>\n",
       "<style scoped>\n",
       "    .dataframe tbody tr th:only-of-type {\n",
       "        vertical-align: middle;\n",
       "    }\n",
       "\n",
       "    .dataframe tbody tr th {\n",
       "        vertical-align: top;\n",
       "    }\n",
       "\n",
       "    .dataframe thead th {\n",
       "        text-align: right;\n",
       "    }\n",
       "</style>\n",
       "<table border=\"1\" class=\"dataframe\">\n",
       "  <thead>\n",
       "    <tr style=\"text-align: right;\">\n",
       "      <th></th>\n",
       "      <th>Time</th>\n",
       "      <th>Temperature</th>\n",
       "    </tr>\n",
       "  </thead>\n",
       "  <tbody>\n",
       "    <tr>\n",
       "      <th>0</th>\n",
       "      <td>4.0</td>\n",
       "      <td>0.022222</td>\n",
       "    </tr>\n",
       "    <tr>\n",
       "      <th>1</th>\n",
       "      <td>8.0</td>\n",
       "      <td>0.016667</td>\n",
       "    </tr>\n",
       "    <tr>\n",
       "      <th>2</th>\n",
       "      <td>12.0</td>\n",
       "      <td>0.021111</td>\n",
       "    </tr>\n",
       "    <tr>\n",
       "      <th>3</th>\n",
       "      <td>16.0</td>\n",
       "      <td>0.016667</td>\n",
       "    </tr>\n",
       "    <tr>\n",
       "      <th>4</th>\n",
       "      <td>20.0</td>\n",
       "      <td>0.020000</td>\n",
       "    </tr>\n",
       "  </tbody>\n",
       "</table>\n",
       "</div>"
      ],
      "text/plain": [
       "   Time  Temperature\n",
       "0   4.0     0.022222\n",
       "1   8.0     0.016667\n",
       "2  12.0     0.021111\n",
       "3  16.0     0.016667\n",
       "4  20.0     0.020000"
      ]
     },
     "execution_count": 2,
     "metadata": {},
     "output_type": "execute_result"
    }
   ],
   "source": [
    "my_data = pd.read_csv(r\"C:\\Users\\margo\\Dysk Google\\Semestr_6\\MIS\\Projekt\\OBIEKT.DAT\",\n",
    "    sep='\\s+',names=['Time','Temperature'])\n",
    "my_data.head()"
   ]
  },
  {
   "cell_type": "code",
   "execution_count": 3,
   "metadata": {},
   "outputs": [
    {
     "data": {
      "image/png": "[encoded data removed]",
      "text/plain": [
       "<Figure size 432x288 with 1 Axes>"
      ]
     },
     "metadata": {
      "needs_background": "light"
     },
     "output_type": "display_data"
    },
    {
     "data": {
      "text/plain": [
       "<Figure size 432x288 with 0 Axes>"
      ]
     },
     "metadata": {},
     "output_type": "display_data"
    }
   ],
   "source": [
    "%matplotlib inline\n",
    "\n",
    "plt.plot(my_data['Time'],my_data['Temperature'],linewidth=2,label='Measured')\n",
    "plt.xlabel('Time')\n",
    "plt.ylabel('Temperature [$\\circ$C]')\n",
    "plt.grid()\n",
    "plt.legend()\n",
    "plt.show()\n",
    "plt.tight_layout()"
   ]
  },
  {
   "cell_type": "code",
   "execution_count": 4,
   "metadata": {},
   "outputs": [],
   "source": [
    "def temperature(t,z,Tp,V,D):\n",
    "    return Tp+np.exp((V*z)/(2*D))*(z/(2*(np.pi*D*t**3)**0.5))*np.exp((-z**2/(4*D*t))-(t*V**2/(4*D)))\n",
    "\n",
    "  "
   ]
  },
  {
   "cell_type": "code",
   "execution_count": 38,
   "metadata": {},
   "outputs": [
    {
     "name": "stdout",
     "output_type": "stream",
     "text": [
      "Collecting lmfit\n",
      "  Downloading lmfit-1.0.2.tar.gz (306 kB)\n",
      "Collecting asteval>=0.9.16\n",
      "  Downloading asteval-0.9.23.tar.gz (55 kB)\n",
      "Requirement already satisfied: numpy>=1.16 in c:\\programdata\\anaconda3\\lib\\site-packages (from lmfit) (1.18.5)\n",
      "Requirement already satisfied: scipy>=1.2 in c:\\programdata\\anaconda3\\lib\\site-packages (from lmfit) (1.5.0)\n",
      "Collecting uncertainties>=3.0.1\n",
      "  Downloading uncertainties-3.1.5-py2.py3-none-any.whl (246 kB)\n",
      "Requirement already satisfied: future in c:\\programdata\\anaconda3\\lib\\site-packages (from uncertainties>=3.0.1->lmfit) (0.18.2)\n",
      "Building wheels for collected packages: lmfit, asteval\n",
      "  Building wheel for lmfit (setup.py): started\n",
      "  Building wheel for lmfit (setup.py): finished with status 'done'\n",
      "  Created wheel for lmfit: filename=lmfit-1.0.2-py3-none-any.whl size=85278 sha256=4f95d247cee6c91082839177cf02927eaa7968bc3fdfeb68ca594a6b3a5c86f4\n",
      "  Stored in directory: c:\\users\\margo\\appdata\\local\\pip\\cache\\wheels\\2c\\17\\f4\\1ec5177c8589e18c329907db7db4f1c4524bb73251d34f3622\n",
      "  Building wheel for asteval (setup.py): started\n",
      "  Building wheel for asteval (setup.py): finished with status 'done'\n",
      "  Created wheel for asteval: filename=asteval-0.9.23-py3-none-any.whl size=17436 sha256=f7b7640b81a8dccfa7967e1bc199a46e456c04f3a413d9d694061b1ffeeaa731\n",
      "  Stored in directory: c:\\users\\margo\\appdata\\local\\pip\\cache\\wheels\\2f\\3c\\df\\1c0eafdd1d6ff5b36e3a0030eaab4d8465f8f94ae9c2b74d39\n",
      "Successfully built lmfit asteval\n",
      "Installing collected packages: asteval, uncertainties, lmfit\n",
      "Successfully installed asteval-0.9.23 lmfit-1.0.2 uncertainties-3.1.5\n"
     ]
    }
   ],
   "source": [
    "# !pip install lmfit"
   ]
  },
  {
   "cell_type": "code",
   "execution_count": 57,
   "metadata": {
    "scrolled": true
   },
   "outputs": [
    {
     "name": "stdout",
     "output_type": "stream",
     "text": [
      "[20.          0.51623977  0.1         0.1       ]\n"
     ]
    },
    {
     "name": "stderr",
     "output_type": "stream",
     "text": [
      "C:\\ProgramData\\Anaconda3\\lib\\site-packages\\scipy\\optimize\\minpack.py:828: OptimizeWarning: Covariance of the parameters could not be estimated\n",
      "  warnings.warn('Covariance of the parameters could not be estimated',\n"
     ]
    },
    {
     "data": {
      "text/plain": [
       "[<matplotlib.lines.Line2D at 0x1c4a5363280>]"
      ]
     },
     "execution_count": 57,
     "metadata": {},
     "output_type": "execute_result"
    },
    {
     "data": {
      "image/png": "[encoded data removed]",
      "text/plain": [
       "<Figure size 432x288 with 1 Axes>"
      ]
     },
     "metadata": {
      "needs_background": "light"
     },
     "output_type": "display_data"
    }
   ],
   "source": [
    "from scipy.optimize import curve_fit, leastsq\n",
    "from scipy.special import expit\n",
    "from lmfit import minimize, Minimizer, Parameters, Parameter, report_fit\n",
    "\n",
    "\n",
    "g = np.array([20,0.001,0.1,0.1])\n",
    "\n",
    "t = my_data['Time'].values\n",
    "t = expit(t)\n",
    "\n",
    "temp = my_data['Temperature'].values\n",
    "temp = expit(temp)\n",
    "\n",
    "c,cov = curve_fit(temperature,t,temp,g)\n",
    "\n",
    "\n",
    "print(c)\n",
    "\n",
    "\n",
    "n = len(my_data['Time'])\n",
    "y = np.empty(n)\n",
    "for i in range(n):\n",
    "    y[i] = temperature(my_data['Time'][i],c[0],c[1],c[2],c[3])\n",
    "\n",
    "%matplotlib inline\n",
    "plt.plot(my_data['Time'],my_data['Temperature'])\n",
    "plt.plot(my_data['Time'],y,'ro')"
   ]
  },
  {
   "cell_type": "code",
   "execution_count": 32,
   "metadata": {
    "scrolled": false
   },
   "outputs": [
    {
     "data": {
      "text/plain": [
       "<matplotlib.legend.Legend at 0x1c4a1b3aa00>"
      ]
     },
     "execution_count": 32,
     "metadata": {},
     "output_type": "execute_result"
    },
    {
     "data": {
      "image/png": "[encoded data removed]",
      "text/plain": [
       "<Figure size 432x288 with 1 Axes>"
      ]
     },
     "metadata": {
      "needs_background": "light"
     },
     "output_type": "display_data"
    }
   ],
   "source": [
    "g = [20,0.0027,0.08,0.067]\n",
    "k = 14.3\n",
    "n = len(my_data['Time'])\n",
    "y = np.empty(n)\n",
    "for i in range(n):\n",
    "    y[i] = k*temperature(my_data['Time'][i],g[0],g[1],g[2],g[3])\n",
    "\n",
    "%matplotlib inline\n",
    "plt.plot(my_data['Time'],my_data['Temperature'],label='Measured')\n",
    "plt.plot(my_data['Time'],y,'o',label='Model')\n",
    "plt.xlabel('Time')\n",
    "plt.ylabel('Temperature [$\\circ$C]')\n",
    "plt.grid()\n",
    "plt.legend()"
   ]
  },
  {
   "cell_type": "code",
   "execution_count": null,
   "metadata": {},
   "outputs": [],
   "source": []
  }
 ],
 "metadata": {
  "kernelspec": {
   "display_name": "Python 3",
   "language": "python",
   "name": "python3"
  },
  "language_info": {
   "codemirror_mode": {
    "name": "ipython",
    "version": 3
   },
   "file_extension": ".py",
   "mimetype": "text/x-python",
   "name": "python",
   "nbconvert_exporter": "python",
   "pygments_lexer": "ipython3",
   "version": "3.8.3"
  }
 },
 "nbformat": 4,
 "nbformat_minor": 4
}
